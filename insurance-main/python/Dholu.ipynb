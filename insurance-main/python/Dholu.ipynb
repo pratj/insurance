{
 "cells": [
  {
   "cell_type": "code",
   "execution_count": 54,
   "metadata": {},
   "outputs": [],
   "source": [
    "import requests"
   ]
  },
  {
   "cell_type": "code",
   "execution_count": 55,
   "metadata": {},
   "outputs": [],
   "source": [
    "body4='{\"product\" : \"Individual Health Guard\",\"formData\" : {\"pincode\" : \"201301\",\"gender\" : \"female\",\"fullName\" : \"Param Attri\",\"mobileNo\" :\"09650186933\",\"age\" : \"22\"},\"category\" : \"Health Insurance\"}'\n",
    "body1='{\"product\" : \"Overseas Travel Insurance\",\"formData\" : {\"endDate\" : \"2021-01-22\",\"destination\" : \"India\",\"startDate\" : \"2021-01-08\"},\"category\" : \"Travel Insurance\"}'\n",
    "body2='{\"product\" : \"Individual Life Insurance\",\"formData\" : {\"tobaccoConsume\" : \"no\",\"gender\" : \"male\",\"fullName\" : \"Param Attri\",\"mobileNo\" : \"09650186933\",\"age\" : \"21\"},\"category\" : \"Term Life Insurance\"}'\n",
    "body3='{ \"product\" : \"Car Insurance\",\"formData\" : {\"sendUpdates\" : true,\"vehicleNo\" : \"DL12AB1234\",\"fullName\" : \"Param Attri\",\"mobileNo\" : \"09650186933\",\"email\" : \"attri.param@gmail.com\"},\"category\" : \"Motor Insurance\"}'"
   ]
  },
  {
   "cell_type": "code",
   "execution_count": null,
   "metadata": {},
   "outputs": [],
   "source": []
  },
  {
   "cell_type": "code",
   "execution_count": 56,
   "metadata": {},
   "outputs": [],
   "source": [
    "import json\n",
    "body=list()\n",
    "body.append(json.loads(body1))\n",
    "body.append(json.loads(body2))\n",
    "body.append(json.loads(body3))\n",
    "body.append(json.loads(body4))"
   ]
  },
  {
   "cell_type": "code",
   "execution_count": 57,
   "metadata": {},
   "outputs": [],
   "source": [
    "emails=[\n",
    "    \"rashwinnonda@gmail.com\",\n",
    "    \"rashwinnonda@outlook.com\",\n",
    "    \"4sf15cs122@sahyadri.edu.in\",\n",
    "    \"4sf15cs12@sahyadri.edu.in\",\n",
    "    \"4sf15cs22@sahyadri.edu.in\",\n",
    "    \"teamzircon.sahyadri@gmail.com\",\n",
    "    \"mnrrnmproject@gmail.com\",\n",
    "    \"attri.param@gmail.com\",\n",
    "    \"ramanonda@gmail.com\",\n",
    "    \"prateek.jo97@gmail.com\"\n",
    "]"
   ]
  },
  {
   "cell_type": "code",
   "execution_count": 69,
   "metadata": {},
   "outputs": [
    {
     "name": "stdout",
     "output_type": "stream",
     "text": [
      "0\n",
      "1\n",
      "2\n",
      "3\n",
      "4\n",
      "5\n",
      "6\n",
      "7\n",
      "8\n",
      "9\n",
      "10\n",
      "11\n",
      "12\n",
      "13\n",
      "14\n",
      "15\n",
      "16\n",
      "17\n",
      "18\n",
      "19\n",
      "20\n",
      "21\n",
      "22\n",
      "23\n",
      "24\n",
      "25\n",
      "26\n",
      "27\n",
      "28\n",
      "29\n",
      "30\n",
      "31\n",
      "32\n",
      "33\n",
      "34\n",
      "35\n",
      "36\n",
      "37\n",
      "38\n",
      "39\n"
     ]
    }
   ],
   "source": [
    "import random\n",
    "count=0\n",
    "for i in emails:\n",
    "    for j in range(0,4):\n",
    "        print(count)\n",
    "        count+=1\n",
    "        url = \"http://localhost:9090/api/response\"\n",
    "        n=random.randrange(0,3)\n",
    "        #print(n)\n",
    "        querystring =body[n]\n",
    "        querystring[\"formData\"][\"email\"]=i\n",
    "        #print(querystring)\n",
    "        x = requests.post(url, json = querystring)\n",
    "        #print(x.text)"
   ]
  },
  {
   "cell_type": "code",
   "execution_count": 43,
   "metadata": {},
   "outputs": [
    {
     "data": {
      "text/plain": [
       "4"
      ]
     },
     "execution_count": 43,
     "metadata": {},
     "output_type": "execute_result"
    }
   ],
   "source": [
    "len(body)"
   ]
  },
  {
   "cell_type": "code",
   "execution_count": 31,
   "metadata": {},
   "outputs": [
    {
     "ename": "IndexError",
     "evalue": "list index out of range",
     "output_type": "error",
     "traceback": [
      "\u001b[0;31m---------------------------------------------------------------------------\u001b[0m",
      "\u001b[0;31mIndexError\u001b[0m                                Traceback (most recent call last)",
      "\u001b[0;32m<ipython-input-31-ccc577598b55>\u001b[0m in \u001b[0;36m<module>\u001b[0;34m\u001b[0m\n\u001b[0;32m----> 1\u001b[0;31m \u001b[0mbody\u001b[0m\u001b[0;34m[\u001b[0m\u001b[0;36m5\u001b[0m\u001b[0;34m]\u001b[0m\u001b[0;34m\u001b[0m\u001b[0;34m\u001b[0m\u001b[0m\n\u001b[0m",
      "\u001b[0;31mIndexError\u001b[0m: list index out of range"
     ]
    }
   ],
   "source": [
    "body[5]"
   ]
  },
  {
   "cell_type": "code",
   "execution_count": null,
   "metadata": {},
   "outputs": [],
   "source": []
  }
 ],
 "metadata": {
  "kernelspec": {
   "display_name": "Python 3",
   "language": "python",
   "name": "python3"
  },
  "language_info": {
   "codemirror_mode": {
    "name": "ipython",
    "version": 3
   },
   "file_extension": ".py",
   "mimetype": "text/x-python",
   "name": "python",
   "nbconvert_exporter": "python",
   "pygments_lexer": "ipython3",
   "version": "3.8.5"
  }
 },
 "nbformat": 4,
 "nbformat_minor": 4
}
