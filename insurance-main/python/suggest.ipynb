{
 "cells": [
  {
   "cell_type": "code",
   "execution_count": null,
   "metadata": {},
   "outputs": [],
   "source": [
    "from pymongo import MongoClient\n",
    "from pprint import pprint\n",
    "import pandas as pd\n",
    "client = MongoClient(port=27017)\n",
    "db=client.insurance\n",
    "cursor=db.quotes.aggregate([{\"$group\":{\"_id\":{\"email\":\"$formData.email\",\"category\":\"$category\",\"product\":\"$product\"}}},{\"$project\":{\"email\":\"$_id.email\",\"category\":\"$_id.category\",\"product\":\"$_id.product\",\"_id\":0}}])"
   ]
  },
  {
   "cell_type": "code",
   "execution_count": 6,
   "metadata": {},
   "outputs": [],
   "source": [
    "def suggest(category,product):\n",
    "    client = MongoClient(port=27017)\n",
    "    db=client.insurance\n",
    "    cursor=db.quotes.aggregate([{\"$group\":{\"_id\":{\"email\":\"$formData.email\",\"category\":\"$category\",\"product\":\"$product\"}}},{\"$project\":{\"email\":\"$_id.email\",\"category\":\"$_id.category\",\"product\":\"$_id.product\",\"_id\":0}}])\n",
    "    data=pd.DataFrame(cursor)\n",
    "    print(data)\n",
    "    data[\"categoryProduct\"]=data[\"category\"]+\",\"+data[\"product\"]\n",
    "    categoryProduct=set(data[\"categoryProduct\"])\n",
    "    outputData=list()\n",
    "    for i in categoryProduct:\n",
    "        iUsers=set(data.email[data[\"categoryProduct\"]==i])    \n",
    "        for j in categoryProduct:\n",
    "            curOutput=list()\n",
    "            curOutput.append(i)\n",
    "            curOutput.append(j)\n",
    "            jUsers=set(data.email[data[\"categoryProduct\"]==j])\n",
    "            curOutput.append(len(iUsers&jUsers))\n",
    "            outputData.append(curOutput)\n",
    "    outputData=pd.DataFrame(outputData,columns=[\"i\",\"j\",\"count\"])\n",
    "    categoryProduct=category+\",\"+product\n",
    "    processData=outputData[outputData[\"i\"]==categoryProduct]\n",
    "    #print(processData)\n",
    "    print(\"length\")\n",
    "    print(len(set(data.email[data[\"categoryProduct\"]==categoryProduct])))\n",
    "    total=len(set(data.email[data[\"categoryProduct\"]==categoryProduct]))\n",
    "    if(total>0):\n",
    "        processData[\"count\"]=(processData[\"count\"]*100)/total\n",
    "        print(processData)\n",
    "        categories=set(processData.j[processData[\"count\"]>60])\n",
    "        categoryList=list()\n",
    "        productList=list()\n",
    "        for cat in categories:\n",
    "            split=cat.split(\",\")\n",
    "            if(category!=split[0] and product!=split[1]):\n",
    "                categoryList.append(split[0])\n",
    "                productList.append(split[1])\n",
    "        return list(db.formConfig.find({\"category\":{\"$in\":categoryList},\"product\":{\"$in\":productList}},{\"category\":1,\"product\":1,\"image\":1,\"info\":1,\"_id\":0}))\n",
    "    return list()"
   ]
  },
  {
   "cell_type": "code",
   "execution_count": 7,
   "metadata": {},
   "outputs": [
    {
     "name": "stdout",
     "output_type": "stream",
     "text": [
      "                            email             category  \\\n",
      "0      4sf15cs122@sahyadri.edu.in      Motor Insurance   \n",
      "1             ramanonda@gmail.com      Motor Insurance   \n",
      "2          prateek.jo97@gmail.com     Travel Insurance   \n",
      "3       4sf15cs12@sahyadri.edu.in      Motor Insurance   \n",
      "4      4sf15cs122@sahyadri.edu.in  Term Life Insurance   \n",
      "5         mnrrnmproject@gmail.com  Term Life Insurance   \n",
      "6       4sf15cs12@sahyadri.edu.in     Travel Insurance   \n",
      "7       4sf15cs22@sahyadri.edu.in     Travel Insurance   \n",
      "8       4sf15cs22@sahyadri.edu.in  Term Life Insurance   \n",
      "9          prateek.jo97@gmail.com  Term Life Insurance   \n",
      "10        mnrrnmproject@gmail.com      Motor Insurance   \n",
      "11      4sf15cs12@sahyadri.edu.in  Term Life Insurance   \n",
      "12          attri.param@gmail.com  Term Life Insurance   \n",
      "13                            NaN     Travel Insurance   \n",
      "14                            NaN     Health Insurance   \n",
      "15          attri.param@gmail.com      Motor Insurance   \n",
      "16       rashwinnonda@outlook.com      Motor Insurance   \n",
      "17  teamzircon.sahyadri@gmail.com  Term Life Insurance   \n",
      "18      4sf15cs22@sahyadri.edu.in      Motor Insurance   \n",
      "19       rashwinnonda@outlook.com     Travel Insurance   \n",
      "20            ramanonda@gmail.com  Term Life Insurance   \n",
      "21          attri.param@gmail.com     Travel Insurance   \n",
      "22         rashwinnonda@gmail.com      Motor Insurance   \n",
      "23         rashwinnonda@gmail.com     Travel Insurance   \n",
      "24     4sf15cs122@sahyadri.edu.in     Travel Insurance   \n",
      "25         prateek.jo97@gmail.com      Motor Insurance   \n",
      "26            ramanonda@gmail.com     Travel Insurance   \n",
      "27        mnrrnmproject@gmail.com     Travel Insurance   \n",
      "28         rashwinnonda@gmail.com  Term Life Insurance   \n",
      "29  teamzircon.sahyadri@gmail.com      Motor Insurance   \n",
      "30       rashwinnonda@outlook.com  Term Life Insurance   \n",
      "31  teamzircon.sahyadri@gmail.com     Travel Insurance   \n",
      "\n",
      "                      product  \n",
      "0               Car Insurance  \n",
      "1               Car Insurance  \n",
      "2   Overseas Travel Insurance  \n",
      "3               Car Insurance  \n",
      "4   Individual Life Insurance  \n",
      "5   Individual Life Insurance  \n",
      "6   Overseas Travel Insurance  \n",
      "7   Overseas Travel Insurance  \n",
      "8   Individual Life Insurance  \n",
      "9   Individual Life Insurance  \n",
      "10              Car Insurance  \n",
      "11  Individual Life Insurance  \n",
      "12  Individual Life Insurance  \n",
      "13  Overseas Travel Insurance  \n",
      "14    Individual Health Guard  \n",
      "15              Car Insurance  \n",
      "16              Car Insurance  \n",
      "17  Individual Life Insurance  \n",
      "18              Car Insurance  \n",
      "19  Overseas Travel Insurance  \n",
      "20  Individual Life Insurance  \n",
      "21  Overseas Travel Insurance  \n",
      "22              Car Insurance  \n",
      "23  Overseas Travel Insurance  \n",
      "24  Overseas Travel Insurance  \n",
      "25              Car Insurance  \n",
      "26  Overseas Travel Insurance  \n",
      "27  Overseas Travel Insurance  \n",
      "28  Individual Life Insurance  \n",
      "29              Car Insurance  \n",
      "30  Individual Life Insurance  \n",
      "31  Overseas Travel Insurance  \n",
      "length\n",
      "11\n",
      "                                             i  \\\n",
      "8   Travel Insurance,Overseas Travel Insurance   \n",
      "9   Travel Insurance,Overseas Travel Insurance   \n",
      "10  Travel Insurance,Overseas Travel Insurance   \n",
      "11  Travel Insurance,Overseas Travel Insurance   \n",
      "\n",
      "                                                j       count  \n",
      "8        Health Insurance,Individual Health Guard    9.090909  \n",
      "9   Term Life Insurance,Individual Life Insurance   90.909091  \n",
      "10     Travel Insurance,Overseas Travel Insurance  100.000000  \n",
      "11                  Motor Insurance,Car Insurance   90.909091  \n"
     ]
    },
    {
     "name": "stderr",
     "output_type": "stream",
     "text": [
      "<ipython-input-6-10718179d280>:27: SettingWithCopyWarning: \n",
      "A value is trying to be set on a copy of a slice from a DataFrame.\n",
      "Try using .loc[row_indexer,col_indexer] = value instead\n",
      "\n",
      "See the caveats in the documentation: https://pandas.pydata.org/pandas-docs/stable/user_guide/indexing.html#returning-a-view-versus-a-copy\n",
      "  processData[\"count\"]=(processData[\"count\"]*100)/total\n"
     ]
    },
    {
     "data": {
      "text/plain": [
       "[{'image': 'https://images.moneycontrol.com/static-mcnews/2018/03/car-insurance-770x433.jpg',\n",
       "  'product': 'Car Insurance',\n",
       "  'category': 'Motor Insurance',\n",
       "  'info': ''},\n",
       " {'image': 'https://brandsite-static.hdfclife.com/media/image/45.jpg',\n",
       "  'product': 'Individual Life Insurance',\n",
       "  'category': 'Term Life Insurance',\n",
       "  'info': ''}]"
      ]
     },
     "execution_count": 7,
     "metadata": {},
     "output_type": "execute_result"
    }
   ],
   "source": [
    "suggest(\"Travel Insurance\",\"Overseas Travel Insurance\")"
   ]
  },
  {
   "cell_type": "code",
   "execution_count": 5,
   "metadata": {},
   "outputs": [
    {
     "name": "stdout",
     "output_type": "stream",
     "text": [
      "length\n",
      "10\n",
      "                                               i  \\\n",
      "4  Term Life Insurance,Individual Life Insurance   \n",
      "5  Term Life Insurance,Individual Life Insurance   \n",
      "6  Term Life Insurance,Individual Life Insurance   \n",
      "7  Term Life Insurance,Individual Life Insurance   \n",
      "\n",
      "                                               j  count  \n",
      "4       Health Insurance,Individual Health Guard    0.0  \n",
      "5  Term Life Insurance,Individual Life Insurance  100.0  \n",
      "6     Travel Insurance,Overseas Travel Insurance  100.0  \n",
      "7                  Motor Insurance,Car Insurance  100.0  \n"
     ]
    },
    {
     "name": "stderr",
     "output_type": "stream",
     "text": [
      "<ipython-input-2-46248dbcc8a3>:26: SettingWithCopyWarning: \n",
      "A value is trying to be set on a copy of a slice from a DataFrame.\n",
      "Try using .loc[row_indexer,col_indexer] = value instead\n",
      "\n",
      "See the caveats in the documentation: https://pandas.pydata.org/pandas-docs/stable/user_guide/indexing.html#returning-a-view-versus-a-copy\n",
      "  processData[\"count\"]=(processData[\"count\"]*100)/total\n"
     ]
    },
    {
     "data": {
      "text/plain": [
       "[{'image': 'https://images.moneycontrol.com/static-mcnews/2018/03/car-insurance-770x433.jpg',\n",
       "  'product': 'Car Insurance',\n",
       "  'category': 'Motor Insurance',\n",
       "  'info': ''},\n",
       " {'image': 'https://www.shriramgi.com/images/travelproductbg.jpg',\n",
       "  'product': 'Overseas Travel Insurance',\n",
       "  'category': 'Travel Insurance',\n",
       "  'info': ''}]"
      ]
     },
     "execution_count": 5,
     "metadata": {},
     "output_type": "execute_result"
    }
   ],
   "source": [
    "suggest(\"Term Life Insurance\",\"Individual Life Insurance\")"
   ]
  },
  {
   "cell_type": "code",
   "execution_count": null,
   "metadata": {},
   "outputs": [],
   "source": [
    "suggest(\"Health Insurance\",\"Individual Health Guard\" )"
   ]
  },
  {
   "cell_type": "code",
   "execution_count": null,
   "metadata": {},
   "outputs": [],
   "source": []
  },
  {
   "cell_type": "code",
   "execution_count": null,
   "metadata": {},
   "outputs": [],
   "source": []
  }
 ],
 "metadata": {
  "kernelspec": {
   "display_name": "Python 3",
   "language": "python",
   "name": "python3"
  },
  "language_info": {
   "codemirror_mode": {
    "name": "ipython",
    "version": 3
   },
   "file_extension": ".py",
   "mimetype": "text/x-python",
   "name": "python",
   "nbconvert_exporter": "python",
   "pygments_lexer": "ipython3",
   "version": "3.8.5"
  }
 },
 "nbformat": 4,
 "nbformat_minor": 4
}
