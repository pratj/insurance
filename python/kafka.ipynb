{
 "cells": [
  {
   "cell_type": "code",
   "execution_count": 1,
   "metadata": {},
   "outputs": [
    {
     "name": "stderr",
     "output_type": "stream",
     "text": [
      "/home/rashwin/Project/insurance/python/Suggest.py:43: SettingWithCopyWarning: \n",
      "A value is trying to be set on a copy of a slice from a DataFrame.\n",
      "Try using .loc[row_indexer,col_indexer] = value instead\n",
      "\n",
      "See the caveats in the documentation: https://pandas.pydata.org/pandas-docs/stable/user_guide/indexing.html#returning-a-view-versus-a-copy\n",
      "  processData[\"count\"]=(processData[\"count\"]*100)/total\n"
     ]
    }
   ],
   "source": [
    "import Suggest as mongo\n",
    "import json\n",
    "from json import dumps\n",
    "from kafka import KafkaConsumer\n",
    "from kafka import KafkaProducer"
   ]
  },
  {
   "cell_type": "code",
   "execution_count": null,
   "metadata": {},
   "outputs": [],
   "source": [
    "consumer = KafkaConsumer('pipe',group_id='my_favorite_group',auto_offset_reset='earliest',\n",
    "     enable_auto_commit=True)\n",
    "producer = KafkaProducer(bootstrap_servers=['localhost:9092'],value_serializer=lambda x: \n",
    "                         dumps(x).encode('utf-8'))\n",
    "for msg in consumer:\n",
    "    text=str(msg.value)\n",
    "    text=text[:-1]\n",
    "    texts=text.split(\",\",1)\n",
    "    #print(texts)\n",
    "    #print(\"yes\")\n",
    "    #print(\"quote\" in texts[0])\n",
    "    if(\"quote\" in texts[0] ):\n",
    "        #print(\"quotes\")\n",
    "        data=json.loads(texts[1])\n",
    "        output=mongo.suggest(data[\"category\"],data[\"product\"])\n",
    "        if(len(output)!=0):\n",
    "            message={\"email\":data.get(\"formData\").get(\"email\"),\n",
    "                     \"userName\":data.get(\"formData\").get(\"fullName\"),\n",
    "                     \"category\":output\n",
    "                    }\n",
    "            producer.send('pipe', \"suggest,\"+json.dumps(message))\n",
    "            \n",
    "            "
   ]
  },
  {
   "cell_type": "code",
   "execution_count": null,
   "metadata": {},
   "outputs": [],
   "source": [
    "json.loads(texts[1])"
   ]
  },
  {
   "cell_type": "code",
   "execution_count": null,
   "metadata": {},
   "outputs": [],
   "source": []
  }
 ],
 "metadata": {
  "kernelspec": {
   "display_name": "Python 3",
   "language": "python",
   "name": "python3"
  },
  "language_info": {
   "codemirror_mode": {
    "name": "ipython",
    "version": 3
   },
   "file_extension": ".py",
   "mimetype": "text/x-python",
   "name": "python",
   "nbconvert_exporter": "python",
   "pygments_lexer": "ipython3",
   "version": "3.8.5"
  }
 },
 "nbformat": 4,
 "nbformat_minor": 4
}
